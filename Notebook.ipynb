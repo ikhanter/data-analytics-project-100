{
 "cells": [
  {
   "cell_type": "markdown",
   "id": "0ca8f957",
   "metadata": {},
   "source": [
    "### Imports"
   ]
  },
  {
   "cell_type": "code",
   "execution_count": 2,
   "id": "4bf14203-44fd-4f7a-9e09-d8fd82daa8c9",
   "metadata": {},
   "outputs": [],
   "source": [
    "import pandas as pd\n",
    "import requests"
   ]
  },
  {
   "cell_type": "markdown",
   "id": "f35f512e",
   "metadata": {},
   "source": [
    "### Getting data from API and making DataFrames"
   ]
  },
  {
   "cell_type": "code",
   "execution_count": 8,
   "id": "65179c5f",
   "metadata": {},
   "outputs": [],
   "source": [
    "date_start = '2023-03-01'\n",
    "date_end = '2023-09-01'\n",
    "\n",
    "r_visits = requests.get(f'https://data-charts-api.hexlet.app/visits?begin={date_start}&end={date_end}')\n",
    "r_regs = requests.get(f'https://data-charts-api.hexlet.app/registrations?begin={date_start}&end={date_end}')\n",
    "\n",
    "df_visits = r_visits.json()\n",
    "df_regs = r_regs.json()\n",
    "\n",
    "df_visits = pd.DataFrame(df_visits)\n",
    "df_regs = pd.DataFrame(df_regs)"
   ]
  }
 ],
 "metadata": {
  "kernelspec": {
   "display_name": "Python 3 (ipykernel)",
   "language": "python",
   "name": "python3"
  },
  "language_info": {
   "codemirror_mode": {
    "name": "ipython",
    "version": 3
   },
   "file_extension": ".py",
   "mimetype": "text/x-python",
   "name": "python",
   "nbconvert_exporter": "python",
   "pygments_lexer": "ipython3",
   "version": "3.11.7"
  }
 },
 "nbformat": 4,
 "nbformat_minor": 5
}
